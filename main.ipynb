{
 "cells": [
  {
   "cell_type": "code",
   "execution_count": null,
   "id": "05a68521",
   "metadata": {},
   "outputs": [],
   "source": []
  },
  {
   "cell_type": "markdown",
   "id": "3db5f367",
   "metadata": {},
   "source": [
    "# Hola Mundo\n",
    "\n",
    "## sub-titulo"
   ]
  },
  {
   "cell_type": "markdown",
   "id": "328ace5f",
   "metadata": {},
   "source": [
    "\n",
    "### Ecuación del péndulo\n",
    "\n",
    "La ecuación diferencial que describe el movimiento de un péndulo simple es:\n",
    "\n",
    "$$\n",
    "\\frac{d^2\\theta}{dt^2} + \\frac{g}{l} \\sin(\\theta) = 0\n",
    "$$\n",
    "\n",
    "Donde:\n",
    "- $\\theta$ es el ángulo respecto a la vertical,\n",
    "- $g$ es la aceleración debido a la gravedad,\n",
    "- $l$ es la longitud de la cuerda del péndulo.\n"
   ]
  },
  {
   "cell_type": "markdown",
   "id": "214ae295",
   "metadata": {},
   "source": [
    "# Comandos básicos de Markdown\n",
    "\n",
    "- **Encabezados:**  \n",
    "    Usa `#`, `##`, `###`, etc. para crear títulos y subtítulos.\n",
    "    ```\n",
    "    # Título principal\n",
    "    ## Subtítulo\n",
    "    ### Encabezado de tercer nivel\n",
    "    ```\n",
    "\n",
    "- **Negrita:**  \n",
    "    Usa `**texto**` o `__texto__`.\n",
    "    ```\n",
    "    **negrita**\n",
    "    ```\n",
    "\n",
    "- **Cursiva:**  \n",
    "    Usa `*texto*` o `_texto_`.\n",
    "    ```\n",
    "    *cursiva*\n",
    "    ```\n",
    "\n",
    "- **Listas:**  \n",
    "    - Listas con viñetas:  \n",
    "        ```\n",
    "        - Elemento 1\n",
    "        - Elemento 2\n",
    "        ```\n",
    "    - Listas numeradas:  \n",
    "        ```\n",
    "        1. Primer elemento\n",
    "        2. Segundo elemento\n",
    "        ```\n",
    "\n",
    "- **Código:**  \n",
    "    - En línea:  \n",
    "        ```\n",
    "        `código`\n",
    "        ```\n",
    "    - Bloque de código:  \n",
    "        ```\n",
    "        ```python\n",
    "        print(\"Hola Mundo\")\n",
    "        ```\n",
    "        ```\n",
    "\n",
    "- **Enlaces:**  \n",
    "    ```\n",
    "    [Texto del enlace](https://www.ejemplo.com)\n",
    "    ```\n",
    "\n",
    "- **Imágenes:**  \n",
    "    ```\n",
    "    ![Texto alternativo](url_de_la_imagen)\n",
    "    ```\n",
    "\n",
    "- **Citas:**  \n",
    "    ```\n",
    "    > Esto es una cita.\n",
    "    ```\n",
    "\n",
    "- **Ecuaciones (LaTeX):**  \n",
    "    ```\n",
    "    $E=mc^2$\n",
    "    ```\n",
    "\n",
    "Estos comandos te ayudarán a documentar y organizar tu Jupyter Notebook de manera efectiva."
   ]
  },
  {
   "cell_type": "code",
   "execution_count": null,
   "id": "3b708bae",
   "metadata": {},
   "outputs": [
    {
     "data": {
      "text/plain": [
       "20"
      ]
     },
     "execution_count": 9,
     "metadata": {},
     "output_type": "execute_result"
    }
   ],
   "source": []
  },
  {
   "cell_type": "markdown",
   "id": "8e4bfbb7",
   "metadata": {},
   "source": []
  },
  {
   "cell_type": "code",
   "execution_count": 7,
   "id": "b85f93f9",
   "metadata": {},
   "outputs": [],
   "source": [
    "theta = 3 "
   ]
  },
  {
   "cell_type": "code",
   "execution_count": 3,
   "id": "e850d029",
   "metadata": {},
   "outputs": [],
   "source": [
    "a=2\n",
    "b=3.3\n",
    "c=\"hola\"\n",
    "d=True\n"
   ]
  },
  {
   "cell_type": "code",
   "execution_count": 4,
   "id": "8cbab252",
   "metadata": {},
   "outputs": [
    {
     "name": "stdout",
     "output_type": "stream",
     "text": [
      "2 3.3 hola True\n"
     ]
    }
   ],
   "source": [
    "print(a,b,c,d)"
   ]
  },
  {
   "cell_type": "code",
   "execution_count": 5,
   "id": "9a2e9268",
   "metadata": {},
   "outputs": [
    {
     "data": {
      "text/plain": [
       "(int, float, str, bool)"
      ]
     },
     "execution_count": 5,
     "metadata": {},
     "output_type": "execute_result"
    }
   ],
   "source": [
    "type(a),type(b),type(c),type(d)"
   ]
  },
  {
   "cell_type": "code",
   "execution_count": null,
   "id": "3495e777",
   "metadata": {},
   "outputs": [],
   "source": []
  }
 ],
 "metadata": {
  "kernelspec": {
   "display_name": "UP2025",
   "language": "python",
   "name": "python3"
  },
  "language_info": {
   "codemirror_mode": {
    "name": "ipython",
    "version": 3
   },
   "file_extension": ".py",
   "mimetype": "text/x-python",
   "name": "python",
   "nbconvert_exporter": "python",
   "pygments_lexer": "ipython3",
   "version": "3.12.4"
  }
 },
 "nbformat": 4,
 "nbformat_minor": 5
}
